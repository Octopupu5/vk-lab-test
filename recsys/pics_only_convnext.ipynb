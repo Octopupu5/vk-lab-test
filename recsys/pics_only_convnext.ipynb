{
 "cells": [
  {
   "cell_type": "code",
   "execution_count": 1,
   "metadata": {},
   "outputs": [],
   "source": [
    "import os\n",
    "import torch\n",
    "import random\n",
    "import numpy as np\n",
    "import torch.nn as nn\n",
    "import torch.optim as optim\n",
    "from torch.utils.data import DataLoader, Dataset\n",
    "from PIL import Image\n",
    "from io import BytesIO\n",
    "from base64 import b64decode\n",
    "import pandas as pd\n",
    "import numpy as np\n",
    "from timm import create_model\n",
    "from sklearn.model_selection import train_test_split\n",
    "import tqdm.notebook as tq\n",
    "import albumentations as A\n",
    "from albumentations.pytorch import ToTensorV2"
   ]
  },
  {
   "cell_type": "code",
   "execution_count": 2,
   "metadata": {},
   "outputs": [],
   "source": [
    "df = pd.read_csv(\"../../post2ctr_dataset.csv\")\n",
    "\n",
    "max_size = 224\n",
    "\n",
    "transform = A.Compose([\n",
    "    A.Resize(max_size, max_size),\n",
    "    A.HorizontalFlip(p=0.5),\n",
    "    A.VerticalFlip(p=0.5),\n",
    "        \n",
    "    A.RandomBrightnessContrast(p=0.75),\n",
    "    A.ShiftScaleRotate(rotate_limit=360,shift_limit=0.15,scale_limit=0.1,p=0.75),\n",
    "    A.OneOf([\n",
    "        A.GaussNoise(var_limit=[10, 50]),\n",
    "        A.GaussianBlur(),\n",
    "        A.MotionBlur(),\n",
    "    ], p=0.4),\n",
    "    A.CoarseDropout(max_holes=2, max_width=int(max_size * 0.2), max_height=int(max_size * 0.2), mask_fill_value=0, p=0.5),\n",
    "    \n",
    "    A.Normalize(mean=[0.485, 0.456, 0.406], std=[0.229, 0.224, 0.225]),\n",
    "    ToTensorV2(transpose_mask=True),\n",
    "])\n",
    "\n",
    "class TemplateDataset(Dataset):\n",
    "    def __init__(self, df, transform=None):\n",
    "        self.df = df\n",
    "        self.transform = transform\n",
    "\n",
    "    def __len__(self):\n",
    "        return len(self.df)\n",
    "\n",
    "    def __getitem__(self, idx):\n",
    "        cell = self.df.iloc[idx]\n",
    "        \n",
    "        img = Image.open(BytesIO(b64decode(cell[\"photo\"])))\n",
    "        img = np.asarray(img.convert(\"RGB\"))\n",
    "        img = self.transform(image=img)[\"image\"]\n",
    "        \n",
    "        target = cell[\"open_photo\"] / cell[\"view\"] if cell[\"view\"] > 0 else 0\n",
    "\n",
    "        return {\n",
    "            \"img\" : img,\n",
    "            \"target\" : target\n",
    "        }"
   ]
  },
  {
   "cell_type": "code",
   "execution_count": 3,
   "metadata": {},
   "outputs": [],
   "source": [
    "seed = 42\n",
    "os.environ['PYTHONHASHSEED'] = str(seed)\n",
    "np.random.seed(seed)\n",
    "random.seed(seed)\n",
    "torch.manual_seed(seed)\n",
    "torch.cuda.manual_seed(seed)\n",
    "train_df, test_df = train_test_split(df, test_size=0.2, random_state=42)\n",
    "\n",
    "train_dataset = TemplateDataset(train_df, transform=transform)\n",
    "test_dataset = TemplateDataset(test_df, transform=transform)\n",
    "\n",
    "train_loader = DataLoader(train_dataset, batch_size=8, shuffle=True)\n",
    "test_loader = DataLoader(test_dataset, batch_size=8, shuffle=False)"
   ]
  },
  {
   "cell_type": "code",
   "execution_count": 4,
   "metadata": {},
   "outputs": [],
   "source": [
    "class ConVNext(nn.Module):\n",
    "    def __init__(self):\n",
    "        super(ConVNext, self).__init__()\n",
    "        convnext = create_model(\"convnext_tiny\", pretrained=True)\n",
    "        self.image_model = convnext\n",
    "        self.image_model.head.fc = nn.Linear(in_features=768, out_features=1, bias=True)\n",
    "        self.answer = nn.Sigmoid()\n",
    "\n",
    "    def forward(self, image_input):\n",
    "        return self.answer(self.image_model(image_input))"
   ]
  },
  {
   "cell_type": "code",
   "execution_count": 5,
   "metadata": {},
   "outputs": [],
   "source": [
    "model = ConVNext()\n",
    "device = torch.device(\"cuda\" if torch.cuda.is_available() else \"cpu\")\n",
    "model = model.to(device)\n",
    "\n",
    "optimizer = optim.Adam(model.parameters(), lr=1e-4)\n",
    "criterion = nn.BCELoss()"
   ]
  },
  {
   "cell_type": "code",
   "execution_count": 6,
   "metadata": {},
   "outputs": [],
   "source": [
    "def train_model(model, train_loader, optimizer):\n",
    "    running_loss = 0.0\n",
    "    model.train()\n",
    "    loop = tq.tqdm(enumerate(train_loader), total=len(train_loader), leave=True, colour=\"steelblue\")\n",
    "    for batch_idx, data in loop:\n",
    "        images = data[\"img\"].to(device)\n",
    "        targets = data[\"target\"].to(device, dtype=torch.float).squeeze()\n",
    "                \n",
    "        outputs = model(images).squeeze()\n",
    "        loss = criterion(outputs, targets)\n",
    "\n",
    "        running_loss += loss.item()\n",
    "        optimizer.zero_grad()\n",
    "        loss.backward()\n",
    "        nn.utils.clip_grad_norm_(model.parameters(), max_norm=1.0)\n",
    "        optimizer.step()\n",
    "\n",
    "    return model, running_loss / len(train_loader)"
   ]
  },
  {
   "cell_type": "code",
   "execution_count": 7,
   "metadata": {},
   "outputs": [],
   "source": [
    "def eval_model(model, test_loader):\n",
    "    running_loss = 0.0\n",
    "    model.eval()\n",
    "    with torch.no_grad():\n",
    "        for batch_idx, data in enumerate(test_loader, 0):\n",
    "            images = data[\"img\"].to(device)\n",
    "            targets = data[\"target\"].to(device, dtype=torch.float).squeeze()\n",
    "                    \n",
    "            outputs = model(images).squeeze()\n",
    "            loss = criterion(outputs, targets)\n",
    "            running_loss += loss.item()\n",
    "\n",
    "    return running_loss / len(test_loader)"
   ]
  },
  {
   "cell_type": "code",
   "execution_count": 8,
   "metadata": {},
   "outputs": [
    {
     "name": "stdout",
     "output_type": "stream",
     "text": [
      "Epoch 1/5\n"
     ]
    },
    {
     "data": {
      "application/vnd.jupyter.widget-view+json": {
       "model_id": "d011fb80f3474923a68fc8f1a6dedd6c",
       "version_major": 2,
       "version_minor": 0
      },
      "text/plain": [
       "  0%|          | 0/2353 [00:00<?, ?it/s]"
      ]
     },
     "metadata": {},
     "output_type": "display_data"
    },
    {
     "name": "stdout",
     "output_type": "stream",
     "text": [
      "Train Loss = 0.1697, Test Loss = 0.1615\n",
      "Epoch 2/5\n"
     ]
    },
    {
     "data": {
      "application/vnd.jupyter.widget-view+json": {
       "model_id": "e9556bab7dee463f95be8b4d91e87548",
       "version_major": 2,
       "version_minor": 0
      },
      "text/plain": [
       "  0%|          | 0/2353 [00:00<?, ?it/s]"
      ]
     },
     "metadata": {},
     "output_type": "display_data"
    },
    {
     "name": "stdout",
     "output_type": "stream",
     "text": [
      "Train Loss = 0.1687, Test Loss = 0.1612\n",
      "Epoch 3/5\n"
     ]
    },
    {
     "data": {
      "application/vnd.jupyter.widget-view+json": {
       "model_id": "3b06f3fca6054db59a879ad2909a6c45",
       "version_major": 2,
       "version_minor": 0
      },
      "text/plain": [
       "  0%|          | 0/2353 [00:00<?, ?it/s]"
      ]
     },
     "metadata": {},
     "output_type": "display_data"
    },
    {
     "name": "stdout",
     "output_type": "stream",
     "text": [
      "Train Loss = 0.1685, Test Loss = 0.1612\n",
      "Epoch 4/5\n"
     ]
    },
    {
     "data": {
      "application/vnd.jupyter.widget-view+json": {
       "model_id": "f85c5bdaba9e4098b762631a32b7c599",
       "version_major": 2,
       "version_minor": 0
      },
      "text/plain": [
       "  0%|          | 0/2353 [00:00<?, ?it/s]"
      ]
     },
     "metadata": {},
     "output_type": "display_data"
    },
    {
     "name": "stdout",
     "output_type": "stream",
     "text": [
      "Train Loss = 0.1685, Test Loss = 0.1617\n",
      "Epoch 5/5\n"
     ]
    },
    {
     "data": {
      "application/vnd.jupyter.widget-view+json": {
       "model_id": "a45ae0797188438bacc8885f4edb7a9c",
       "version_major": 2,
       "version_minor": 0
      },
      "text/plain": [
       "  0%|          | 0/2353 [00:00<?, ?it/s]"
      ]
     },
     "metadata": {},
     "output_type": "display_data"
    },
    {
     "name": "stdout",
     "output_type": "stream",
     "text": [
      "Train Loss = 0.1692, Test Loss = 0.1616\n"
     ]
    }
   ],
   "source": [
    "epochs = 5\n",
    "best_loss = float(\"inf\")\n",
    "for epoch in range(epochs):\n",
    "    print(f\"Epoch {epoch + 1}/{epochs}\")\n",
    "    model, train_loss = train_model(model, train_loader, optimizer)\n",
    "    test_loss = eval_model(model, test_loader)\n",
    "\n",
    "    print(f\"Train Loss = {train_loss:.4f}, Test Loss = {test_loss:.4f}\")\n",
    "    if test_loss < best_loss:\n",
    "        torch.save(model.state_dict(), \"../../convnext_recsys.pth\")"
   ]
  }
 ],
 "metadata": {
  "kernelspec": {
   "display_name": "Python 3",
   "language": "python",
   "name": "python3"
  },
  "language_info": {
   "codemirror_mode": {
    "name": "ipython",
    "version": 3
   },
   "file_extension": ".py",
   "mimetype": "text/x-python",
   "name": "python",
   "nbconvert_exporter": "python",
   "pygments_lexer": "ipython3",
   "version": "3.12.3"
  }
 },
 "nbformat": 4,
 "nbformat_minor": 2
}
