{
 "cells": [
  {
   "cell_type": "code",
   "execution_count": 2,
   "metadata": {},
   "outputs": [],
   "source": [
    "import os\n",
    "import torch\n",
    "import random\n",
    "import numpy as np\n",
    "import torch.nn as nn\n",
    "import torch.optim as optim\n",
    "from torchvision import transforms\n",
    "from torch.utils.data import DataLoader, Dataset\n",
    "from PIL import Image\n",
    "from io import BytesIO\n",
    "from base64 import b64decode\n",
    "import pandas as pd\n",
    "from sklearn.model_selection import train_test_split\n",
    "import tqdm.notebook as tq\n",
    "from transformers import BertTokenizer\n",
    "from common_stuff import MultiSolver"
   ]
  },
  {
   "cell_type": "code",
   "execution_count": 3,
   "metadata": {},
   "outputs": [
    {
     "name": "stderr",
     "output_type": "stream",
     "text": [
      "/home/vivy/.local/lib/python3.12/site-packages/transformers/tokenization_utils_base.py:1601: FutureWarning: `clean_up_tokenization_spaces` was not set. It will be set to `True` by default. This behavior will be depracted in transformers v4.45, and will be then set to `False` by default. For more details check this issue: https://github.com/huggingface/transformers/issues/31884\n",
      "  warnings.warn(\n"
     ]
    }
   ],
   "source": [
    "def split_post(cell):\n",
    "    return str(cell[\"text\"]).split()\n",
    "\n",
    "df = pd.read_csv(\"../../post2ctr_dataset.csv\")\n",
    "df[\"splitted\"] = df.apply(split_post, axis=1)\n",
    "\n",
    "max_size = 224\n",
    "\n",
    "transform = transforms.Compose([\n",
    "    transforms.Resize((max_size, max_size)),\n",
    "    transforms.ToTensor(),\n",
    "    transforms.Normalize(mean=[0.485, 0.456, 0.406], std=[0.229, 0.224, 0.225])\n",
    "])\n",
    "\n",
    "tokenizer = BertTokenizer.from_pretrained(\"google-bert/bert-base-multilingual-cased\")\n",
    "\n",
    "class TemplateDataset(Dataset):\n",
    "    def __init__(self, df, tokenizer, transform=None):\n",
    "        self.df = df\n",
    "        self.transform = transform\n",
    "        self.tokenizer = tokenizer\n",
    "        self.max_len = 512\n",
    "\n",
    "    def __len__(self):\n",
    "        return len(self.df)\n",
    "\n",
    "    def __getitem__(self, idx):\n",
    "        cell = self.df.iloc[idx]\n",
    "        \n",
    "        img = Image.open(BytesIO(b64decode(cell[\"photo\"])))\n",
    "        img = img.convert(\"RGB\")\n",
    "        img = self.transform(img)\n",
    "        \n",
    "        target = cell[\"open_photo\"] / cell[\"view\"] if cell[\"view\"] > 0 else 0\n",
    "\n",
    "        msg = \" \".join(cell[\"splitted\"])\n",
    "        inputs = self.tokenizer.encode_plus(\n",
    "            msg,\n",
    "            None,\n",
    "            add_special_tokens=True,\n",
    "            max_length=self.max_len,\n",
    "            padding='max_length',\n",
    "            return_token_type_ids=True,\n",
    "            truncation=True,\n",
    "            return_attention_mask=True,\n",
    "            return_tensors='pt'\n",
    "        )\n",
    "        \n",
    "        return {\n",
    "            \"img\" : img,\n",
    "            \"input_ids\" : inputs[\"input_ids\"].flatten(),\n",
    "            \"attention_mask\" : inputs[\"attention_mask\"].flatten(),\n",
    "            \"token_type_ids\" : inputs[\"token_type_ids\"].flatten(),\n",
    "            \"target\" : target\n",
    "        }\n",
    "\n",
    "seed = 42\n",
    "os.environ['PYTHONHASHSEED'] = str(seed)\n",
    "np.random.seed(seed)\n",
    "random.seed(seed)\n",
    "torch.manual_seed(seed)\n",
    "torch.cuda.manual_seed(seed)\n",
    "\n",
    "train_df, test_df = train_test_split(df, test_size=0.2, random_state=seed)\n",
    "\n",
    "train_dataset = TemplateDataset(train_df, tokenizer=tokenizer, transform=transform)\n",
    "test_dataset = TemplateDataset(test_df, tokenizer=tokenizer, transform=transform)\n",
    "\n",
    "train_loader = DataLoader(train_dataset, batch_size=8, shuffle=True)\n",
    "test_loader = DataLoader(test_dataset, batch_size=8, shuffle=False)"
   ]
  },
  {
   "cell_type": "code",
   "execution_count": 5,
   "metadata": {},
   "outputs": [],
   "source": [
    "model = MultiSolver(768, 768)\n",
    "device = torch.device(\"cuda\" if torch.cuda.is_available() else \"cpu\")\n",
    "model = model.to(device)\n",
    "\n",
    "optimizer = optim.AdamW(model.parameters(), lr=5e-5)\n",
    "criterion = nn.BCELoss()"
   ]
  },
  {
   "cell_type": "code",
   "execution_count": 6,
   "metadata": {},
   "outputs": [],
   "source": [
    "def train_model(model, train_loader, optimizer):\n",
    "    running_loss = 0.0\n",
    "    model.train()\n",
    "    loop = tq.tqdm(enumerate(train_loader), total=len(train_loader), leave=True, colour=\"steelblue\")\n",
    "    for batch_idx, data in loop:\n",
    "        images = data[\"img\"].to(device)\n",
    "        ids = data[\"input_ids\"].to(device, dtype=torch.long)\n",
    "        mask = data[\"attention_mask\"].to(device, dtype=torch.long)\n",
    "        token_ids = data[\"token_type_ids\"].to(device, dtype=torch.long)\n",
    "        targets = data[\"target\"].to(device, dtype=torch.float).squeeze()\n",
    "                \n",
    "        outputs = model(ids, mask, token_ids, images).squeeze()\n",
    "        loss = criterion(outputs, targets)\n",
    "\n",
    "        running_loss += loss.item()\n",
    "        optimizer.zero_grad()\n",
    "        loss.backward()\n",
    "        nn.utils.clip_grad_norm_(model.parameters(), max_norm=1.0)\n",
    "        optimizer.step()\n",
    "\n",
    "    return model, running_loss / len(train_loader)"
   ]
  },
  {
   "cell_type": "code",
   "execution_count": 7,
   "metadata": {},
   "outputs": [],
   "source": [
    "def eval_model(model, test_loader):\n",
    "    running_loss = 0.0\n",
    "    model.eval()\n",
    "    with torch.no_grad():\n",
    "        for batch_idx, data in enumerate(test_loader, 0):\n",
    "            images = data[\"img\"].to(device)\n",
    "            ids = data[\"input_ids\"].to(device, dtype=torch.long)\n",
    "            mask = data[\"attention_mask\"].to(device, dtype=torch.long)\n",
    "            token_ids = data[\"token_type_ids\"].to(device, dtype=torch.long)\n",
    "            targets = data[\"target\"].to(device, dtype=torch.float).squeeze()\n",
    "                    \n",
    "            outputs = model(ids, mask, token_ids, images).squeeze()\n",
    "            loss = criterion(outputs, targets)\n",
    "            running_loss += loss.item()\n",
    "\n",
    "    return running_loss / len(test_loader)"
   ]
  },
  {
   "cell_type": "code",
   "execution_count": 8,
   "metadata": {},
   "outputs": [
    {
     "name": "stdout",
     "output_type": "stream",
     "text": [
      "Epoch 1/5\n"
     ]
    },
    {
     "data": {
      "application/vnd.jupyter.widget-view+json": {
       "model_id": "2b7fd3c1c7e84077981323b294b39316",
       "version_major": 2,
       "version_minor": 0
      },
      "text/plain": [
       "  0%|          | 0/2353 [00:00<?, ?it/s]"
      ]
     },
     "metadata": {},
     "output_type": "display_data"
    },
    {
     "name": "stdout",
     "output_type": "stream",
     "text": [
      "Train Loss = 0.1678, Test Loss = 0.1586\n",
      "Epoch 2/5\n"
     ]
    },
    {
     "data": {
      "application/vnd.jupyter.widget-view+json": {
       "model_id": "0048b9ac61894102b4e0bf2a79bab675",
       "version_major": 2,
       "version_minor": 0
      },
      "text/plain": [
       "  0%|          | 0/2353 [00:00<?, ?it/s]"
      ]
     },
     "metadata": {},
     "output_type": "display_data"
    },
    {
     "name": "stdout",
     "output_type": "stream",
     "text": [
      "Train Loss = 0.1648, Test Loss = 0.1583\n",
      "Epoch 3/5\n"
     ]
    },
    {
     "data": {
      "application/vnd.jupyter.widget-view+json": {
       "model_id": "01e69abc016a4f50982b4188343da982",
       "version_major": 2,
       "version_minor": 0
      },
      "text/plain": [
       "  0%|          | 0/2353 [00:00<?, ?it/s]"
      ]
     },
     "metadata": {},
     "output_type": "display_data"
    },
    {
     "name": "stdout",
     "output_type": "stream",
     "text": [
      "Train Loss = 0.1614, Test Loss = 0.1596\n",
      "Epoch 4/5\n"
     ]
    },
    {
     "data": {
      "application/vnd.jupyter.widget-view+json": {
       "model_id": "bfab6e01ce7a4786ac999b762fd8153c",
       "version_major": 2,
       "version_minor": 0
      },
      "text/plain": [
       "  0%|          | 0/2353 [00:00<?, ?it/s]"
      ]
     },
     "metadata": {},
     "output_type": "display_data"
    },
    {
     "name": "stdout",
     "output_type": "stream",
     "text": [
      "Train Loss = 0.1542, Test Loss = 0.1598\n",
      "Epoch 5/5\n"
     ]
    },
    {
     "data": {
      "application/vnd.jupyter.widget-view+json": {
       "model_id": "a4f3884f77b34e3c87571bbc3a860939",
       "version_major": 2,
       "version_minor": 0
      },
      "text/plain": [
       "  0%|          | 0/2353 [00:00<?, ?it/s]"
      ]
     },
     "metadata": {},
     "output_type": "display_data"
    },
    {
     "name": "stdout",
     "output_type": "stream",
     "text": [
      "Train Loss = 0.1484, Test Loss = 0.1618\n"
     ]
    }
   ],
   "source": [
    "epochs = 5\n",
    "best_loss = float(\"inf\")\n",
    "for epoch in range(epochs):\n",
    "    print(f\"Epoch {epoch + 1}/{epochs}\")\n",
    "    model, train_loss = train_model(model, train_loader, optimizer)\n",
    "    test_loss = eval_model(model, test_loader)\n",
    "\n",
    "    print(f\"Train Loss = {train_loss:.4f}, Test Loss = {test_loss:.4f}\")\n",
    "    if test_loss < best_loss:\n",
    "        torch.save(model.state_dict(), \"../../convnext_bert_recsys.pth\")"
   ]
  }
 ],
 "metadata": {
  "kernelspec": {
   "display_name": "Python 3",
   "language": "python",
   "name": "python3"
  },
  "language_info": {
   "codemirror_mode": {
    "name": "ipython",
    "version": 3
   },
   "file_extension": ".py",
   "mimetype": "text/x-python",
   "name": "python",
   "nbconvert_exporter": "python",
   "pygments_lexer": "ipython3",
   "version": "3.12.3"
  }
 },
 "nbformat": 4,
 "nbformat_minor": 2
}
